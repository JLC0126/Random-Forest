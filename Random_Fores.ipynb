{
 "cells": [
  {
   "cell_type": "markdown",
   "id": "954d1014",
   "metadata": {},
   "source": [
    "# Data Set de prueba"
   ]
  },
  {
   "cell_type": "code",
   "execution_count": 73,
   "id": "777b1e94",
   "metadata": {},
   "outputs": [],
   "source": [
    "import matplotlib.pyplot as plt\n",
    "\n",
    "Datos=[\n",
    "    [0.5,3.0,0],\n",
    "    [1.1,1.5,0],\n",
    "    [2.0,0.5,0],\n",
    "    [2.5,4.5,0],\n",
    "    [4.0,3.5,1],\n",
    "    [4.1,8.0,0],\n",
    "    [4.1,4.0,1],\n",
    "    [5.0,1.5,1],\n",
    "    [5.1,5.0,1],\n",
    "    [5.5,3.1,1],\n",
    "    [6.0,2.0,1],\n",
    "    [6.5,5.0,1],\n",
    "    [7.0,2.5,1],\n",
    "    [7.0,9.0,0],\n",
    "    [8.0,3.8,1],\n",
    "    [8.2,5.1,0],\n",
    "    [9.0,3.5,0],\n",
    "    [9.5,1.8,0],\n",
    "    [10.0,2.8,0],\n",
    "    [7.5,1.0,1]\n",
    "]"
   ]
  },
  {
   "cell_type": "markdown",
   "id": "91f2c670",
   "metadata": {},
   "source": [
    "# Graficando DataSet"
   ]
  },
  {
   "cell_type": "code",
   "execution_count": 74,
   "id": "fad5babb",
   "metadata": {
    "scrolled": true
   },
   "outputs": [
    {
     "data": {
      "image/png": "[encoded data removed]",
      "text/plain": [
       "<Figure size 640x480 with 1 Axes>"
      ]
     },
     "metadata": {},
     "output_type": "display_data"
    }
   ],
   "source": [
    "x = []\n",
    "y = []\n",
    "color = []\n",
    "\n",
    "for elementos in Datos:\n",
    "    x.append(elementos[0])\n",
    "    y.append(elementos[1])\n",
    "    if elementos[2] == 0:\n",
    "        color.append('red')\n",
    "    else:\n",
    "        color.append('green')\n",
    "        \n",
    "        \n",
    "plt.xlabel(\"Caracteristica x\")\n",
    "plt.ylabel(\"Caracteristica y\")\n",
    "plt.scatter(x,y,c=color)\n",
    "plt.scatter([], [], c='red', label='Clase 0')\n",
    "plt.scatter([], [], c='green', label='Clase 1')\n",
    "plt.legend()\n",
    "plt.show()"
   ]
  },
  {
   "cell_type": "code",
   "execution_count": null,
   "id": "4c57dc65",
   "metadata": {},
   "outputs": [],
   "source": []
  },
  {
   "cell_type": "code",
   "execution_count": null,
   "id": "cdea44f2",
   "metadata": {},
   "outputs": [],
   "source": []
  },
  {
   "cell_type": "markdown",
   "id": "581dc105",
   "metadata": {},
   "source": [
    "# Implementación algoritmo CART"
   ]
  },
  {
   "cell_type": "code",
   "execution_count": 44,
   "id": "854ff971",
   "metadata": {},
   "outputs": [],
   "source": [
    "import numpy as np\n",
    "\n",
    "class Nodo:\n",
    "    def __init__(self, caracteristica=None, umbral=None, izquierdo=None, derecho=None, valor=None):\n",
    "        self.caracteristica = caracteristica  # índice de la característica a dividir\n",
    "        self.umbral = umbral  # valor de umbral para dividir la característica\n",
    "        self.izquierdo = izquierdo  # subárbol izquierdo\n",
    "        self.derecho = derecho  # subárbol derecho\n",
    "        self.valor = valor # valor para devolver si este es un nodo hoja\n",
    "\n",
    "class CART:\n",
    "    def __init__(self, profundidad_max=5, division_min_muestras=2, min_decrecimiento_impureza=0.0):\n",
    "        self.profundidad_max = profundidad_max\n",
    "        self.division_min_muestras = division_min_muestras\n",
    "        self.min_decrecimiento_impureza = min_decrecimiento_impureza\n",
    "\n",
    "    def gini(self, y):\n",
    "        _, counts = np.unique(y, return_counts=True)\n",
    "        p = counts / len(y)\n",
    "        return 1 - np.sum(p ** 2)\n",
    "\n",
    "    def division(self, X, y):\n",
    "        mejor_caracteristica, mejor_umbral, mejor_gini = None, None, 1\n",
    "        for caracteristica in range(X.shape[1]):\n",
    "            umbrales = np.unique(X[:, caracteristica])\n",
    "            for umbral in umbrales:\n",
    "                y_left = y[X[:, caracteristica] < umbral]\n",
    "                y_right = y[X[:, caracteristica] >= umbral]\n",
    "                if len(y_left) < self.division_min_muestras or len(y_right) < self.division_min_muestras:\n",
    "                    continue\n",
    "                gini = (len(y_left) / len(y)) * self.gini(y_left) + (len(y_right) / len(y)) * self.gini(y_right)\n",
    "                if gini < mejor_gini:\n",
    "                    mejor_caracteristica, mejor_umbral, mejor_gini = caracteristica, umbral, gini\n",
    "        return mejor_caracteristica, mejor_umbral, mejor_gini\n",
    "\n",
    "    def construir_arbol(self, X, y, profundidad=0):\n",
    "        if profundidad >= self.profundidad_max or len(y) < self.division_min_muestras or self.gini(y) < self.min_decrecimiento_impureza:\n",
    "            return Nodo(valor=np.mean(y))\n",
    "        caracteristica, umbral, gini = self.division(X, y)\n",
    "        if caracteristica is None:\n",
    "            return Nodo(valor=np.mean(y))\n",
    "        X_left, y_left = X[X[:, caracteristica] < umbral], y[X[:, caracteristica] < umbral]\n",
    "        X_right, y_right = X[X[:, caracteristica] >= umbral], y[X[:, caracteristica] >= umbral]\n",
    "        izquierdo = self.construir_arbol(X_left, y_left, profundidad + 1)\n",
    "        derecho = self.construir_arbol(X_right, y_right, profundidad + 1)\n",
    "        return Nodo(caracteristica=caracteristica, umbral=umbral, izquierdo=izquierdo, derecho=derecho)\n",
    "\n",
    "    def fit(self, X, y):\n",
    "        self.raiz = self.construir_arbol(X, y)\n",
    "\n",
    "    def predict(self, X):\n",
    "        return np.array([self._predict(x) for x in X])\n",
    "\n",
    "    def _predict(self, x, nodo=None):\n",
    "        if nodo is None:\n",
    "            nodo = self.raiz\n",
    "        if nodo.valor is not None:\n",
    "            return nodo.valor\n",
    "        if x[nodo.caracteristica] < nodo.umbral:\n",
    "            return self._predict(x, nodo.izquierdo)\n",
    "        else:\n",
    "            return self._predict(x, nodo.derecho)\n"
   ]
  },
  {
   "cell_type": "markdown",
   "id": "5012aa48",
   "metadata": {},
   "source": [
    "## Pequeña prueba de validación"
   ]
  },
  {
   "cell_type": "code",
   "execution_count": 75,
   "id": "c5ed44d2",
   "metadata": {},
   "outputs": [],
   "source": [
    "import matplotlib.pyplot as plt\n",
    "\n",
    "Datos=[\n",
    "    [0.5,3.0,0],\n",
    "    [1.1,1.5,0],\n",
    "    [2.0,0.5,0],\n",
    "    [2.5,4.5,0],\n",
    "    [4.0,3.5,1],\n",
    "    [4.1,8.0,0],\n",
    "    [4.1,4.0,1],\n",
    "    [5.0,1.5,1],\n",
    "    [5.1,5.0,1],\n",
    "    [5.5,3.1,1],\n",
    "    [6.0,2.0,1],\n",
    "    [6.5,5.0,1],\n",
    "    [7.0,2.5,1],\n",
    "    [7.0,9.0,0],\n",
    "    #[8.0,3.8,1],Dato usado para probar precision\n",
    "    [8.2,5.1,0],\n",
    "    [9.0,3.5,0],\n",
    "    [9.5,1.8,0],\n",
    "    #[10.0,2.8,0],Dato usado para probar precision\n",
    "    [7.5,1.0,1]\n",
    "]"
   ]
  },
  {
   "cell_type": "code",
   "execution_count": 46,
   "id": "9501c2e2",
   "metadata": {},
   "outputs": [
    {
     "name": "stdout",
     "output_type": "stream",
     "text": [
      "La clase a la que pertenece  [8.  3.8] es 1.0\n",
      "La clase a la que pertenece  [10.   2.8] es 0.0\n"
     ]
    }
   ],
   "source": [
    "\n",
    "# separar características y variable de respuesta\n",
    "X = np.array(Datos)[:, :-1]\n",
    "y = np.array(Datos)[:, -1]\n",
    "\n",
    "# crear modelo y ajustar con los datos de entrenamiento\n",
    "modelo = CART()\n",
    "modelo.fit(X, y)\n",
    "\n",
    "X_prueba = np.array([[8.0, 3.8], [10.0, 2.8]])\n",
    "y_pred = modelo.predict(X_prueba)\n",
    "\n",
    "x1=X_prueba[0]\n",
    "x2=X_prueba[1]\n",
    "print(\"La clase a la que pertenece \",x1, \"es\",y_pred[0])\n",
    "print(\"La clase a la que pertenece \",x2, \"es\",y_pred[1])\n"
   ]
  },
  {
   "cell_type": "markdown",
   "id": "bbe1f746",
   "metadata": {},
   "source": [
    "# Conjunto de datos Flor de Iris"
   ]
  },
  {
   "cell_type": "markdown",
   "id": "fc7b4f62",
   "metadata": {},
   "source": [
    "## funciones para calcular la presición y dividir los datos"
   ]
  },
  {
   "cell_type": "code",
   "execution_count": 47,
   "id": "d6b65299",
   "metadata": {},
   "outputs": [],
   "source": [
    "from sklearn.datasets import load_iris\n",
    "import numpy as np\n",
    "\n",
    "def dividir_prueba_entrenamiento(X, y, test_size=0.2, random_state=None):\n",
    "    \"\"\"\n",
    "    Dividir los datos en conjuntos de entrenamiento y prueba.\n",
    "\n",
    "    Parameters\n",
    "    ----------\n",
    "    X : Matriz de características.\n",
    "    y : Vector de etiquetas.\n",
    "    test_size : float, optional (default=0.2)\n",
    "        Fracción del conjunto de datos que se va a utilizar para la prueba.\n",
    "    random_state : int or RandomState, optional (default=None)\n",
    "        Semilla aleatoria para la división aleatoria de los datos.\n",
    "\n",
    "    Returns\n",
    "    -------\n",
    "    X_train : Conjunto de características de entrenamiento.\n",
    "    X_test : Conjunto de características de prueba.\n",
    "    y_train :Vector de etiquetas de entrenamiento.\n",
    "    y_test : Vector de etiquetas de prueba.\n",
    "    \"\"\"\n",
    "\n",
    "    # Comprobar que los datos tienen la misma longitud\n",
    "    if len(X) != len(y):\n",
    "        raise ValueError(\"X e y deben tener la misma longitud\")\n",
    "\n",
    "    # Obtener número de muestras\n",
    "    n_muestras = len(X)\n",
    "\n",
    "    # Obtener número de muestras para el conjunto de prueba\n",
    "    n_pruebas = int(n_muestras * test_size)\n",
    "\n",
    "    # Fijar semilla aleatoria si se proporciona\n",
    "    if random_state is not None:\n",
    "        np.random.seed(random_state)\n",
    "\n",
    "    # Obtener índices aleatorios para el conjunto de prueba\n",
    "    indices_prueba = np.random.choice(range(n_muestras), size=n_pruebas, replace=False)\n",
    "\n",
    "    # Obtener índices para el conjunto de entrenamiento\n",
    "    indices_entrenamiento = np.setdiff1d(range(n_muestras), indices_prueba)\n",
    "\n",
    "    # Dividir los datos en conjuntos de entrenamiento y prueba\n",
    "    X_train, y_train = X[indices_entrenamiento], y[indices_entrenamiento]\n",
    "    X_test, y_test = X[indices_prueba], y[indices_prueba]\n",
    "\n",
    "    return X_train, X_test, y_train, y_test\n",
    "\n",
    "\n",
    "\n",
    "\n",
    "\n",
    "def puntaje_precision(y_true, y_pred):\n",
    "    \"\"\"\n",
    "    Calcula la precisión de la clasificación.\n",
    "    \n",
    "    Parámetros:\n",
    "    - y_true: array con las etiquetas verdaderas.\n",
    "    - y_pred: array con las etiquetas predichas.\n",
    "    \n",
    "    Retorna:\n",
    "    - Precisión de la clasificación.\n",
    "    \"\"\"\n",
    "    predicciones_correctas = np.sum(y_true == y_pred)\n",
    "    total_predicciones = len(y_true)\n",
    "    precision = predicciones_correctas / total_predicciones\n",
    "    return precision"
   ]
  },
  {
   "cell_type": "markdown",
   "id": "e24b83b5",
   "metadata": {},
   "source": [
    "# Entrenando nuestro arbol"
   ]
  },
  {
   "cell_type": "code",
   "execution_count": 48,
   "id": "6ebf9d91",
   "metadata": {},
   "outputs": [
    {
     "name": "stdout",
     "output_type": "stream",
     "text": [
      "Precision: 1.0\n"
     ]
    }
   ],
   "source": [
    "# Cargar el conjunto de datos iris\n",
    "iris = load_iris()\n",
    "\n",
    "# Dividir el conjunto de datos en entrenamiento y prueba\n",
    "X_train, X_test, y_train, y_test = dividir_prueba_entrenamiento(iris.data, iris.target, test_size=0.2, random_state=42)\n",
    "\n",
    "# Convertir los datos de entrenamiento y prueba en matrices NumPy\n",
    "X_train = np.array(X_train)\n",
    "X_test = np.array(X_test)\n",
    "y_train = np.array(y_train)\n",
    "y_test = np.array(y_test)\n",
    "\n",
    "# Entrenar el modelo CART en los datos de entrenamiento\n",
    "cart = CART()\n",
    "cart.fit(X_train, y_train)\n",
    "\n",
    "# Hacer predicciones en el conjunto de prueba\n",
    "y_pred = cart.predict(X_test)\n",
    "\n",
    "# Evaluar la precisión del modelo\n",
    "precision = puntaje_precision(y_test, y_pred)\n",
    "\n",
    "print('Precision:', precision)\n"
   ]
  },
  {
   "cell_type": "code",
   "execution_count": 49,
   "id": "8cc63dfe",
   "metadata": {},
   "outputs": [
    {
     "data": {
      "text/plain": [
       "array([1., 0., 2., 1., 1., 0., 1., 2., 1., 1., 2., 0., 0., 0., 0., 1., 2.,\n",
       "       1., 1., 2., 0., 2., 0., 2., 2., 2., 2., 2., 0., 0.])"
      ]
     },
     "execution_count": 49,
     "metadata": {},
     "output_type": "execute_result"
    }
   ],
   "source": [
    "y_pred"
   ]
  },
  {
   "cell_type": "markdown",
   "id": "c69d6639",
   "metadata": {},
   "source": [
    "# Random Forest"
   ]
  },
  {
   "cell_type": "markdown",
   "id": "6343c915",
   "metadata": {},
   "source": [
    "### Generando nuestro bosque y definiendo funciones para calcular la precisión"
   ]
  },
  {
   "cell_type": "code",
   "execution_count": 50,
   "id": "19408ea5",
   "metadata": {},
   "outputs": [],
   "source": [
    "def random_forest(X, y, n_arboles, profundidad_max=5, division_min_muestras=2, decrecimiento_impureza_min=0.0):\n",
    "    \"\"\"\n",
    "    Genera una lista de árboles de decisión de forma aleatoria.\n",
    "    \n",
    "    Parámetros:\n",
    "    - X: matriz de características.\n",
    "    - y: vector de etiquetas.\n",
    "    - n_arboles: número de árboles a generar.\n",
    "    - profundidad_max: profundidad máxima permitida para los árboles.\n",
    "    - division_min_muestras: número mínimo de muestras requerido para dividir un nodo.\n",
    "    - decrecimiento_impureza_min: impureza mínima requerida para dividir un nodo.\n",
    "    \n",
    "    Retorna:\n",
    "    - arboles: lista de árboles de decisión creados con la clase CART.\n",
    "    \"\"\"\n",
    "    arboles = []\n",
    "    n_muestras = X.shape[0]\n",
    "    for i in range(n_arboles):\n",
    "        # Selección de muestras aleatorias con reemplazo\n",
    "        indices = np.random.choice(n_muestras, n_muestras, replace=True)\n",
    "        X_subset, y_subset = X[indices], y[indices]\n",
    "        # Creación de un árbol con las muestras seleccionadas\n",
    "        arbol = CART(profundidad_max=profundidad_max, division_min_muestras=division_min_muestras, min_decrecimiento_impureza=min_decrecimiento_impureza)\n",
    "        arbol.fit(X_subset, y_subset)\n",
    "        arboles.append(arbol)\n",
    "    return arboles\n",
    "\n",
    "\n",
    "\n",
    "\n",
    "\n",
    "\n",
    "def dividir_prueba_entrenamiento(X, y, test_size=0.2, random_state=None):\n",
    "    \"\"\"\n",
    "    Dividir los datos en conjuntos de entrenamiento y prueba.\n",
    "\n",
    "    Parameters\n",
    "    ----------\n",
    "    X : Matriz de características.\n",
    "    y : Vector de etiquetas.\n",
    "    test_size : float, optional (default=0.2)\n",
    "        Fracción del conjunto de datos que se va a utilizar para la prueba.\n",
    "    random_state : int or RandomState, optional (default=None)\n",
    "        Semilla aleatoria para la división aleatoria de los datos.\n",
    "\n",
    "    Returns\n",
    "    -------\n",
    "    X_train : Conjunto de características de entrenamiento.\n",
    "    X_test : Conjunto de características de prueba.\n",
    "    y_train :Vector de etiquetas de entrenamiento.\n",
    "    y_test : Vector de etiquetas de prueba.\n",
    "    \"\"\"\n",
    "\n",
    "    # Comprobar que los datos tienen la misma longitud\n",
    "    if len(X) != len(y):\n",
    "        raise ValueError(\"X e y deben tener la misma longitud\")\n",
    "\n",
    "    # Obtener número de muestras\n",
    "    n_muestras = len(X)\n",
    "\n",
    "    # Obtener número de muestras para el conjunto de prueba\n",
    "    n_pruebas = int(n_muestras * test_size)\n",
    "\n",
    "    # Fijar semilla aleatoria si se proporciona\n",
    "    if random_state is not None:\n",
    "        np.random.seed(random_state)\n",
    "\n",
    "    # Obtener índices aleatorios para el conjunto de prueba\n",
    "    indices_prueba = np.random.choice(range(n_muestras), size=n_pruebas, replace=False)\n",
    "\n",
    "    # Obtener índices para el conjunto de entrenamiento\n",
    "    indices_entrenamiento = np.setdiff1d(range(n_muestras), indices_prueba)\n",
    "\n",
    "    # Dividir los datos en conjuntos de entrenamiento y prueba\n",
    "    X_train, y_train = X[indices_entrenamiento], y[indices_entrenamiento]\n",
    "    X_test, y_test = X[indices_prueba], y[indices_prueba]\n",
    "\n",
    "    return X_train, X_test, y_train, y_test\n",
    "\n",
    "\n",
    "\n",
    "\n",
    "\n",
    "def puntaje_precision(y_true, y_pred):\n",
    "    \"\"\"\n",
    "    Calcula la precisión de la clasificación.\n",
    "    \n",
    "    Parámetros:\n",
    "    - y_true: array con las etiquetas verdaderas.\n",
    "    - y_pred: array con las etiquetas predichas.\n",
    "    \n",
    "    Retorna:\n",
    "    - Precisión de la clasificación.\n",
    "    \"\"\"\n",
    "    predicciones_correctas = np.sum(y_true == y_pred)\n",
    "    total_predicciones = len(y_true)\n",
    "    precision = predicciones_correctas / total_predicciones\n",
    "    return precision\n",
    "\n",
    "\n",
    "def puntaje_precision_RF(rf, X_test, y_test):\n",
    "    \"\"\"\n",
    "    Calcula la precisión promedio de las predicciones generadas por una lista de árboles de decisión.\n",
    "\n",
    "    Parámetros\n",
    "    ----------\n",
    "    rf :Lista de objetos árbol generados por la función random_forest.\n",
    "    X_test :Matriz de características para las muestras de prueba.\n",
    "    y_test :Matriz de etiquetas para las muestras de prueba.\n",
    "\n",
    "    Retorna\n",
    "    -------\n",
    "    float\n",
    "        Precisión promedio de las predicciones generadas por los árboles en la lista.\n",
    "    \"\"\"\n",
    "    y_pred = np.zeros((len(X_test), len(rf)))\n",
    "    for i, arbol in enumerate(rf):\n",
    "        y_pred[:, i] = arbol.predict(X_test)\n",
    "    y_pred_rf = np.argmax(y_pred, axis=1)\n",
    "    return puntaje_precision(y_test, y_pred_rf)\n",
    "\n",
    "\n",
    "def pesos_error(y_verdadera, y_pred, pesos):\n",
    "    incorrecto = y_verdadera != y_pred\n",
    "    weighted_incorrect = np.dot(incorrecto, pesos)\n",
    "    weighted_total = np.sum(pesos)\n",
    "    return weighted_incorrect / weighted_total\n",
    "\n",
    "def mejor_prediccion(predicciones, etiquetas, pesos):\n",
    "    etiquetas_unicas = np.unique(etiquetas)\n",
    "    errores = []\n",
    "    for etiqueta in etiquetas_unicas:\n",
    "        indices_etiqueta = (etiquetas == etiqueta)\n",
    "        pesos_etiqueta = pesos[indices_etiqueta]\n",
    "        predicciones_etiqueta = predicciones[indices_etiqueta]\n",
    "        error = pesos_error(predicciones_etiqueta, etiqueta * np.ones_like(predicciones_etiqueta), pesos_etiqueta)\n",
    "        errores.append(error)\n",
    "    mejor_indice_etiqueta = np.argmin(errores)\n",
    "    return etiquetas_unicas[mejor_indice_etiqueta]"
   ]
  },
  {
   "cell_type": "markdown",
   "id": "3a0f2214",
   "metadata": {},
   "source": [
    "## Probando precisión del modelo"
   ]
  },
  {
   "cell_type": "code",
   "execution_count": 54,
   "id": "b9d0f92c",
   "metadata": {},
   "outputs": [],
   "source": [
    "X_train, X_test, y_train, y_test = dividir_prueba_entrenamiento(X, y, test_size=0.2, random_state=42)"
   ]
  },
  {
   "cell_type": "code",
   "execution_count": 67,
   "id": "daced15f",
   "metadata": {},
   "outputs": [],
   "source": [
    "n_arboles = 110\n",
    "profundidad_max = 5\n",
    "division_min_muestras = 2\n",
    "min_decrecimiento_impureza = 0.0\n",
    "\n",
    "rf = random_forest(X_train, y_train, n_arboles, profundidad_max, division_min_muestras, min_decrecimiento_impureza)\n"
   ]
  },
  {
   "cell_type": "code",
   "execution_count": 68,
   "id": "83959346",
   "metadata": {},
   "outputs": [
    {
     "name": "stdout",
     "output_type": "stream",
     "text": [
      "Precisión del bosque aleatorio: 1.0\n"
     ]
    }
   ],
   "source": [
    "precision_rf = puntaje_precision_RF(rf, X_test, y_test)\n",
    "print(\"Precisión del bosque aleatorio:\", precision_rf)\n"
   ]
  },
  {
   "cell_type": "code",
   "execution_count": 71,
   "id": "dada0b48",
   "metadata": {},
   "outputs": [],
   "source": [
    "n_arboles = 50\n",
    "profundidad_max = 5\n",
    "division_min_muestras = 2\n",
    "min_decrecimiento_impureza = 0.0\n",
    "\n",
    "rf = random_forest(X_train, y_train, n_arboles, profundidad_max, division_min_muestras, min_decrecimiento_impureza)\n"
   ]
  },
  {
   "cell_type": "code",
   "execution_count": 72,
   "id": "6c699774",
   "metadata": {},
   "outputs": [
    {
     "name": "stdout",
     "output_type": "stream",
     "text": [
      "Precisión del bosque aleatorio: 0.0\n"
     ]
    }
   ],
   "source": [
    "precision_rf = puntaje_precision_RF(rf, X_test, y_test)\n",
    "print(\"Precisión del bosque aleatorio:\", precision_rf)\n"
   ]
  },
  {
   "cell_type": "code",
   "execution_count": null,
   "id": "085ad275",
   "metadata": {},
   "outputs": [],
   "source": []
  }
 ],
 "metadata": {
  "kernelspec": {
   "display_name": "Python 3 (ipykernel)",
   "language": "python",
   "name": "python3"
  },
  "language_info": {
   "codemirror_mode": {
    "name": "ipython",
    "version": 3
   },
   "file_extension": ".py",
   "mimetype": "text/x-python",
   "name": "python",
   "nbconvert_exporter": "python",
   "pygments_lexer": "ipython3",
   "version": "3.9.16"
  }
 },
 "nbformat": 4,
 "nbformat_minor": 5
}
